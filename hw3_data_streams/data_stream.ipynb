{
 "cells": [
  {
   "cell_type": "markdown",
   "metadata": {},
   "source": [
    "dataset: https://snap.stanford.edu/data/web-Stanford.html \n",
    "\n",
    "***Dataset statistics***  \n",
    "Nodes\t281903  \n",
    "Edges\t2312497  \n",
    "Nodes in largest WCC\t255265 (0.906)  \n",
    "Edges in largest WCC\t2234572 (0.966)  \n",
    "Nodes in largest SCC\t150532 (0.534)  \n",
    "Edges in largest SCC\t1576314 (0.682)  \n",
    "Average clustering coefficient\t0.5976  \n",
    "Number of triangles\t11329473  \n",
    "Fraction of closed triangles\t0.002889  \n",
    "Diameter (longest shortest path)\t674  \n",
    "90-percentile effective diameter\t9.7  "
   ]
  },
  {
   "cell_type": "markdown",
   "metadata": {},
   "source": [
    "### 0. Preprocessing"
   ]
  },
  {
   "cell_type": "code",
   "execution_count": 1,
   "metadata": {},
   "outputs": [],
   "source": [
    "import numpy as np\n",
    "import random"
   ]
  },
  {
   "cell_type": "code",
   "execution_count": 13,
   "metadata": {},
   "outputs": [
    {
     "name": "stdout",
     "output_type": "stream",
     "text": [
      "dataset contains 10000 edges\n"
     ]
    }
   ],
   "source": [
    "# import the graph dataset\n",
    "dataset = set()\n",
    "with open(\"web-Stanford.txt\") as f:\n",
    "    for i in range(4, 10004): # discard desciptions and pick first 10000 elements to ease the computation\n",
    "        content = next(f).strip().split()\n",
    "        if content[0] != content[1]:\n",
    "            dataset.add((content[0], content[1]))\n",
    "print(f'dataset contains {len(dataset)} edges')"
   ]
  },
  {
   "cell_type": "markdown",
   "metadata": {},
   "source": [
    "### 1. TRIEST-BASE"
   ]
  },
  {
   "cell_type": "code",
   "execution_count": 91,
   "metadata": {},
   "outputs": [],
   "source": [
    "def TRIEST_BASE(M, dataset=dataset):\n",
    "    \"\"\"\n",
    "    This function estimates number of global triangles by TRIEST_BASE algorithm.\n",
    "    \n",
    "    argument: \n",
    "        M: size of reservoir sample, M>=6\n",
    "        dataset, =dataset defaultly.\n",
    "    return:\n",
    "        number of global triangle count.\n",
    "    \"\"\"\n",
    "    S = set() # edge sample from reservoir sampling\n",
    "    t = 0 # time\n",
    "    tau = 0 # global counter for the estimation of the global number of triangles\n",
    "\n",
    "    \n",
    "    def sample_edge(edge, t, S, tau, M=M):\n",
    "        \"\"\"\n",
    "        This function is the reservoir sampling process.\n",
    "        Notice that each edge item in the sample has equal probability.\n",
    "    \n",
    "        argument:\n",
    "            edge: an arbitrary edge.\n",
    "            t: time instance.\n",
    "            S: edge sample.\n",
    "            M: size of reservoir sample.\n",
    "            tau: global counter.\n",
    "        return:\n",
    "            True or False: whether the input edge will replace an existing edge in the edge sample.\n",
    "            tau: if updated.\n",
    "        \"\"\"\n",
    "        # if t<=M, the edge on the stream at time t \n",
    "        # is deterministically inserted in S\n",
    "        if t <= M:\n",
    "            return [True]\n",
    "    \n",
    "        # if t>M, TRIEST-BASE flips a biased coin with heads probability M/t\n",
    "        # If the outcome is heads, it chooses an existing edge in S uniformly at random,\n",
    "        # remove it and insert the current edge on time t into S \n",
    "        elif random.random() <= (M/t): \n",
    "            del_edge = random.sample(S, 1)[0]\n",
    "            S.remove(del_edge)\n",
    "            #print(1,tau)\n",
    "            tau = update_counters('-', del_edge, S, tau) \n",
    "            #print(2,tau)\n",
    "            return [True, tau]\n",
    "    \n",
    "        # Otherwise S is not modified\n",
    "        return [False]\n",
    "    \n",
    "    \n",
    "    def update_counters(operation, edge, S, tau):\n",
    "        \"\"\"\n",
    "        This function compute neighborhood of vertices and update global and local counters.\n",
    "    \n",
    "        argument:\n",
    "            operation: '+' or '-', means insert or delete respectively.\n",
    "            edge: an arbitrary edge.\n",
    "            S: edge sample.\n",
    "            tau: global counter.    \n",
    "        return:\n",
    "            tau: updated global counter.\n",
    "        \"\"\"\n",
    "        u = edge[0]\n",
    "        v = edge[1]\n",
    "    \n",
    "        # construct neighborhood of u and v respectively\n",
    "        # $ N^S_u = {v in V^(t): (u,v) in S} $\n",
    "        u_neighbor = set()\n",
    "        v_neighbor = set()\n",
    "        for vertices_pair in S:\n",
    "            # neighborhood of u\n",
    "            if u == vertices_pair[0]:\n",
    "                u_neighbor.add(vertices_pair[1])\n",
    "            elif u == vertices_pair[1]:\n",
    "                u_neighbor.add(vertices_pair[0])\n",
    "            # neighborhood of v\n",
    "            if v == vertices_pair[0]:\n",
    "                v_neighbor.add(vertices_pair[1])\n",
    "            elif v == vertices_pair[1]:\n",
    "                v_neighbor.add(vertices_pair[0])\n",
    "        \n",
    "        # construct shared neighborhood of u and v\n",
    "        # $ N^S_u,v = intersection(N^S_u, N^S_v) $\n",
    "        shared_neighbor = set.intersection(u_neighbor, v_neighbor)\n",
    "        #if shared_neighbor != set():\n",
    "        #   print(operation, len(shared_neighbor))\n",
    "    \n",
    "        # update counters\n",
    "        for c in (u_neighbor & v_neighbor):\n",
    "            if operation == '+':\n",
    "                tau += 1\n",
    "                tau_u = len(u_neighbor) + 1 # local counter for a subset of the nodes u in V^(t)\n",
    "                tau_v = len(v_neighbor) + 1 # local counter for a subset of the nodes v in U^(t)\n",
    "                tau_c = len(shared_neighbor) + 1 # local counter for a subset of the nodes in shared neighborhood of u and v\n",
    "            elif operation == '-':\n",
    "                tau -= 1\n",
    "                tau_u = len(u_neighbor) - 1\n",
    "                if tau_u <= 0:\n",
    "                    del tau_u\n",
    "                tau_v = len(v_neighbor) - 1\n",
    "                if tau_v <= 0:\n",
    "                    del tau_v\n",
    "                tau_c = len(shared_neighbor) - 1\n",
    "                if tau_c <= 0:\n",
    "                    del tau_c\n",
    "        return tau\n",
    "    \n",
    "    \n",
    "    for edge in dataset:\n",
    "        if t%1000 == 0:\n",
    "            print(f'element index = {t}, tau = {tau}')\n",
    "            \n",
    "        t += 1 # update time\n",
    "        result = sample_edge(edge, t, S, tau)\n",
    "        if result[0] is True:\n",
    "            S.add(edge)\n",
    "            if len(result) > 1:\n",
    "                tau = result[1] # update tau value of deletion step\n",
    "            tau = update_counters('+', edge, S, tau)  \n",
    "        \n",
    "    epsilon = (t*(t-1)*(t-2)) / (M*(M-1)*(M-2))\n",
    "    if epsilon < 1:\n",
    "        epsilon = 1\n",
    "    return epsilon*tau"
   ]
  },
  {
   "cell_type": "markdown",
   "metadata": {},
   "source": [
    "#### Test"
   ]
  },
  {
   "cell_type": "code",
   "execution_count": 96,
   "metadata": {},
   "outputs": [
    {
     "name": "stdout",
     "output_type": "stream",
     "text": [
      "Compute true value:\n",
      "element index = 0, tau = 0\n",
      "element index = 1000, tau = 38\n",
      "element index = 2000, tau = 353\n",
      "element index = 3000, tau = 1012\n",
      "element index = 4000, tau = 2311\n",
      "element index = 5000, tau = 4472\n",
      "element index = 6000, tau = 7453\n",
      "element index = 7000, tau = 11718\n",
      "element index = 8000, tau = 16982\n",
      "element index = 9000, tau = 22681\n",
      "True value is 29882.0.\n",
      "\n",
      "Compute estimate value by reservoir sampling:\n",
      "element index = 0, tau = 0\n",
      "element index = 1000, tau = 38\n",
      "element index = 2000, tau = 44\n",
      "element index = 3000, tau = 46\n",
      "element index = 4000, tau = 38\n",
      "element index = 5000, tau = 39\n",
      "element index = 6000, tau = 40\n",
      "element index = 7000, tau = 44\n",
      "element index = 8000, tau = 45\n",
      "element index = 9000, tau = 33\n",
      "Estimate value is 31083.890122587516.\n",
      "\n",
      "Error: 1201.890122587516 triangles.\n",
      "Error rate: 0.04022120750242675.\n"
     ]
    }
   ],
   "source": [
    "print('Compute true value:')\n",
    "true_value = TRIEST_BASE(len(dataset)) # M = len(dataset) = 10000\n",
    "print(f'True value is {true_value}.')\n",
    "\n",
    "print('\\nCompute estimate value by reservoir sampling:')\n",
    "estimate_value = TRIEST_BASE(1000) # pick arbitrary M=1000\n",
    "print(f'Estimate value is {estimate_value}.')\n",
    "\n",
    "print(f'\\nError: {abs(estimate_value - true_value)} triangles.')\n",
    "print(f'Error rate: {abs(estimate_value - true_value)/true_value}.')"
   ]
  },
  {
   "cell_type": "code",
   "execution_count": null,
   "metadata": {},
   "outputs": [],
   "source": []
  },
  {
   "cell_type": "code",
   "execution_count": null,
   "metadata": {},
   "outputs": [],
   "source": []
  }
 ],
 "metadata": {
  "kernelspec": {
   "display_name": "Python 3",
   "language": "python",
   "name": "python3"
  },
  "language_info": {
   "codemirror_mode": {
    "name": "ipython",
    "version": 3
   },
   "file_extension": ".py",
   "mimetype": "text/x-python",
   "name": "python",
   "nbconvert_exporter": "python",
   "pygments_lexer": "ipython3",
   "version": "3.7.6"
  }
 },
 "nbformat": 4,
 "nbformat_minor": 4
}
